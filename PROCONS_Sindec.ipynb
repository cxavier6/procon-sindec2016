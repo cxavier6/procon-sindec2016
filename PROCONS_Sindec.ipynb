{
  "nbformat": 4,
  "nbformat_minor": 0,
  "metadata": {
    "colab": {
      "name": "PROCONS-Sindec.ipynb",
      "provenance": [],
      "collapsed_sections": [],
      "toc_visible": true,
      "mount_file_id": "1N3EcOqoZUGhBS34JGdkcIBa2nzbbVoBH",
      "authorship_tag": "ABX9TyOjHvxmfWvRvDQ/FKWYUTsf",
      "include_colab_link": true
    },
    "kernelspec": {
      "name": "python3",
      "display_name": "Python 3"
    }
  },
  "cells": [
    {
      "cell_type": "markdown",
      "metadata": {
        "id": "view-in-github",
        "colab_type": "text"
      },
      "source": [
        "<a href=\"https://colab.research.google.com/github/cxavier6/procon-sindec2016/blob/main/PROCONS_Sindec.ipynb\" target=\"_parent\"><img src=\"https://colab.research.google.com/assets/colab-badge.svg\" alt=\"Open In Colab\"/></a>"
      ]
    },
    {
      "cell_type": "markdown",
      "metadata": {
        "id": "-K3YIzWAwxI7"
      },
      "source": [
        "# **Análise de Dados de Reclamações Fundamentadas dos PROCONS-Sindec**\r\n",
        "\r\n",
        "O Sistema Nacional de Informações de Defesa do Consumidor – Sindec é um sistema\r\n",
        "informatizado que integra processos e procedimentos, relativos ao atendimento aos\r\n",
        "consumidores nos Procons, visando proporcionar um instrumento de gestão adequado ao\r\n",
        "dinamismo que é típico de seus setores de atendimento.\r\n",
        "\r\n",
        "O PROCON é um órgão de Proteção e Defesa do Consumidor que opera em todo o território nacional. É o órgão conhecido por receber reclamações dos consumidores e desempanha processos administrativos para apurar e punir más práticas das organizações.\r\n",
        "\r\n",
        "Entre suas principais funções, o PROCON é responsável por:\r\n",
        "\r\n",
        "\r\n",
        "*   Abrir processos solicitando explicações das empresas sobre suas práticas, mediante a solicitação do consumidor.\r\n",
        "*   Realizar fiscalizações e estabelecer sanções, como multas.\r\n",
        "* Prover atendimento individual para esclarecer dúvidas sobre casos e problemas reais do consumidor.\r\n",
        "* Promover diálogo entre as partes consumidor/empresa.\r\n",
        "\r\n",
        "De todas as demandas registradas no sistema, somente uma parcela é tratada por\r\n",
        "meio de processos administrativos (Reclamações), já que a maior parte dos Procons\r\n",
        "utiliza-se preponderantemente de tipos de atendimento mais céleres para resolução dos\r\n",
        "problemas enfrentados pelos consumidores. Logo, de um modo geral, são registradas na forma de Reclamação demandas de\r\n",
        "consumidores que necessitam da realização de audiência para tentativa de resolução, o\r\n",
        "que pode acontecer tanto pela complexidade da demanda quanto pelo tipo de postura\r\n",
        "adotada pelo fornecedor no enfrentamento do conflito (SINDEC, 2013).\r\n",
        "\r\n",
        "\r\n"
      ]
    },
    {
      "cell_type": "markdown",
      "metadata": {
        "id": "ZabFJnsOZtz1"
      },
      "source": [
        "#Obtenção dos dados\r\n",
        "\r\n",
        "Os dados utilizados para este estudo estão disponíveis no Portal Brasileiro de Dados Abertos no seguinte [link](https://dados.gov.br/dataset/cadastro-nacional-de-reclamacoes-fundamentadas-procons-sindec1) e são referentes a reclamações finalizadas pelos Procons Integrados ao Sindec, no período\r\n",
        "de 12 meses do ano de 2016.\r\n",
        "\r\n"
      ]
    },
    {
      "cell_type": "code",
      "metadata": {
        "id": "icjef1FBvhkE"
      },
      "source": [
        "\r\n",
        "# importando os pacotes necessários\r\n",
        "import pandas as pd\r\n",
        "import matplotlib.pyplot as plt\r\n",
        "import numpy as np\r\n",
        "import seaborn as sns\r\n",
        "\r\n",
        "# definindo o estilo dos gráficos\r\n",
        "sns.set_style()"
      ],
      "execution_count": 1,
      "outputs": []
    },
    {
      "cell_type": "code",
      "metadata": {
        "id": "dYBatWBH3Med"
      },
      "source": [
        "df = pd.read_csv(\"/content/reclamacoes-fundamentadas-sindec-2016.csv\")"
      ],
      "execution_count": 2,
      "outputs": []
    },
    {
      "cell_type": "markdown",
      "metadata": {
        "id": "aXFEMk3oa9VB"
      },
      "source": [
        "Após importar as bibliotecas necessárias, inicia-se a análise dos dados.\r\n",
        "\r\n",
        "A função `head()` mostra as 5 primeiras linhas do dataframe."
      ]
    },
    {
      "cell_type": "code",
      "metadata": {
        "colab": {
          "base_uri": "https://localhost:8080/",
          "height": 496
        },
        "id": "QhKJKKGy6fro",
        "outputId": "c384cbc9-2b9f-4689-c1fb-2db8fae6020d"
      },
      "source": [
        "df.head()"
      ],
      "execution_count": 3,
      "outputs": [
        {
          "output_type": "execute_result",
          "data": {
            "text/html": [
              "<div>\n",
              "<style scoped>\n",
              "    .dataframe tbody tr th:only-of-type {\n",
              "        vertical-align: middle;\n",
              "    }\n",
              "\n",
              "    .dataframe tbody tr th {\n",
              "        vertical-align: top;\n",
              "    }\n",
              "\n",
              "    .dataframe thead th {\n",
              "        text-align: right;\n",
              "    }\n",
              "</style>\n",
              "<table border=\"1\" class=\"dataframe\">\n",
              "  <thead>\n",
              "    <tr style=\"text-align: right;\">\n",
              "      <th></th>\n",
              "      <th>AnoCalendario</th>\n",
              "      <th>DataArquivamento</th>\n",
              "      <th>DataAbertura</th>\n",
              "      <th>CodigoRegiao</th>\n",
              "      <th>Regiao</th>\n",
              "      <th>UF</th>\n",
              "      <th>strRazaoSocial</th>\n",
              "      <th>strNomeFantasia</th>\n",
              "      <th>Tipo</th>\n",
              "      <th>NumeroCNPJ</th>\n",
              "      <th>RadicalCNPJ</th>\n",
              "      <th>RazaoSocialRFB</th>\n",
              "      <th>NomeFantasiaRFB</th>\n",
              "      <th>CNAEPrincipal</th>\n",
              "      <th>DescCNAEPrincipal</th>\n",
              "      <th>Atendida</th>\n",
              "      <th>CodigoAssunto</th>\n",
              "      <th>DescricaoAssunto</th>\n",
              "      <th>CodigoProblema</th>\n",
              "      <th>DescricaoProblema</th>\n",
              "      <th>SexoConsumidor</th>\n",
              "      <th>FaixaEtariaConsumidor</th>\n",
              "      <th>CEPConsumidor</th>\n",
              "    </tr>\n",
              "  </thead>\n",
              "  <tbody>\n",
              "    <tr>\n",
              "      <th>0</th>\n",
              "      <td>2016</td>\n",
              "      <td>2016-02-17 13:43:08.000</td>\n",
              "      <td>2015-10-29 10:59:59.000</td>\n",
              "      <td>2</td>\n",
              "      <td>Nordeste</td>\n",
              "      <td>PE</td>\n",
              "      <td>CVC BRASIL OPERADORA E AGENCIA DE VIAGENS S.A.</td>\n",
              "      <td>CVC</td>\n",
              "      <td>1</td>\n",
              "      <td>1.076026e+13</td>\n",
              "      <td>10760260.0</td>\n",
              "      <td>CVC BRASIL OPERADORA E AGENCIA DE VIAGENS S.A.</td>\n",
              "      <td>NaN</td>\n",
              "      <td>7911200.0</td>\n",
              "      <td>AGÊNCIAS DE VIAGENS</td>\n",
              "      <td>S</td>\n",
              "      <td>276</td>\n",
              "      <td>Agências e Operadoras de viagens (pacotes turí...</td>\n",
              "      <td>205.0</td>\n",
              "      <td>Consulta Sobre Serviços (Pesquisa, cartilha, e...</td>\n",
              "      <td>M</td>\n",
              "      <td>entre 61 a 70 anos</td>\n",
              "      <td>52061540.0</td>\n",
              "    </tr>\n",
              "    <tr>\n",
              "      <th>1</th>\n",
              "      <td>2016</td>\n",
              "      <td>2016-12-15 18:11:35.000</td>\n",
              "      <td>2016-11-18 14:52:22.000</td>\n",
              "      <td>2</td>\n",
              "      <td>Nordeste</td>\n",
              "      <td>PE</td>\n",
              "      <td>GIORGIO ARMANI BRASIL COMERCIO</td>\n",
              "      <td>EMPORIO ARMANI</td>\n",
              "      <td>1</td>\n",
              "      <td>1.318050e+13</td>\n",
              "      <td>13180502.0</td>\n",
              "      <td>NaN</td>\n",
              "      <td>NaN</td>\n",
              "      <td>NaN</td>\n",
              "      <td>NaN</td>\n",
              "      <td>N</td>\n",
              "      <td>132</td>\n",
              "      <td>Vestuário ( Calçado / Roupa )</td>\n",
              "      <td>105.0</td>\n",
              "      <td>Produto com vício</td>\n",
              "      <td>F</td>\n",
              "      <td>entre 31 a 40 anos</td>\n",
              "      <td>51010140.0</td>\n",
              "    </tr>\n",
              "    <tr>\n",
              "      <th>2</th>\n",
              "      <td>2016</td>\n",
              "      <td>2016-09-16 09:01:46.000</td>\n",
              "      <td>2016-06-29 13:58:35.000</td>\n",
              "      <td>2</td>\n",
              "      <td>Nordeste</td>\n",
              "      <td>PE</td>\n",
              "      <td>COMPANHIA ENERGETICA DE PERNAMBUCO</td>\n",
              "      <td>CELPE</td>\n",
              "      <td>1</td>\n",
              "      <td>1.083593e+13</td>\n",
              "      <td>10835932.0</td>\n",
              "      <td>COMPANHIA ENERGETICA DE PERNAMBUCO</td>\n",
              "      <td>CELPE</td>\n",
              "      <td>3514000.0</td>\n",
              "      <td>DISTRIBUIÇÃO DE ENERGIA ELÉTRICA</td>\n",
              "      <td>S</td>\n",
              "      <td>185</td>\n",
              "      <td>Energia Elétrica</td>\n",
              "      <td>134.0</td>\n",
              "      <td>Cobrança indevida/abusiva</td>\n",
              "      <td>F</td>\n",
              "      <td>entre 51 a 60 anos</td>\n",
              "      <td>53060600.0</td>\n",
              "    </tr>\n",
              "    <tr>\n",
              "      <th>3</th>\n",
              "      <td>2016</td>\n",
              "      <td>2016-02-18 13:30:30.000</td>\n",
              "      <td>2016-01-21 12:23:51.000</td>\n",
              "      <td>2</td>\n",
              "      <td>Nordeste</td>\n",
              "      <td>PE</td>\n",
              "      <td>MOURA DUBEUX</td>\n",
              "      <td>MOURA DUBEUX</td>\n",
              "      <td>1</td>\n",
              "      <td>1.204963e+13</td>\n",
              "      <td>12049631.0</td>\n",
              "      <td>MOURA DUBEUX ENGENHARIA S/A</td>\n",
              "      <td>NaN</td>\n",
              "      <td>4120400.0</td>\n",
              "      <td>CONSTRUÇÃO DE EDIFÍCIOS</td>\n",
              "      <td>S</td>\n",
              "      <td>82</td>\n",
              "      <td>Incorporação ( Construtoras e Incorporadoras )</td>\n",
              "      <td>88.0</td>\n",
              "      <td>Não entrega do contrato</td>\n",
              "      <td>M</td>\n",
              "      <td>entre 51 a 60 anos</td>\n",
              "      <td>53090220.0</td>\n",
              "    </tr>\n",
              "    <tr>\n",
              "      <th>4</th>\n",
              "      <td>2016</td>\n",
              "      <td>2016-11-09 14:20:36.000</td>\n",
              "      <td>2016-10-07 16:39:59.000</td>\n",
              "      <td>2</td>\n",
              "      <td>Nordeste</td>\n",
              "      <td>PE</td>\n",
              "      <td>ASSOCIAÇÃO UNIFICADA PAULISTA DE ENSINO RENOVADO</td>\n",
              "      <td>UNIP</td>\n",
              "      <td>1</td>\n",
              "      <td>NaN</td>\n",
              "      <td>NaN</td>\n",
              "      <td>NaN</td>\n",
              "      <td>NaN</td>\n",
              "      <td>NaN</td>\n",
              "      <td>NaN</td>\n",
              "      <td>S</td>\n",
              "      <td>233</td>\n",
              "      <td>Escola ( Pré, 1º, 2º Graus e Superior )</td>\n",
              "      <td>199.0</td>\n",
              "      <td>Documentos: não fornecimento (escolares, recib...</td>\n",
              "      <td>F</td>\n",
              "      <td>entre 21 a 30 anos</td>\n",
              "      <td>53437100.0</td>\n",
              "    </tr>\n",
              "  </tbody>\n",
              "</table>\n",
              "</div>"
            ],
            "text/plain": [
              "   AnoCalendario         DataArquivamento  ... FaixaEtariaConsumidor  CEPConsumidor\n",
              "0           2016  2016-02-17 13:43:08.000  ...    entre 61 a 70 anos     52061540.0\n",
              "1           2016  2016-12-15 18:11:35.000  ...    entre 31 a 40 anos     51010140.0\n",
              "2           2016  2016-09-16 09:01:46.000  ...    entre 51 a 60 anos     53060600.0\n",
              "3           2016  2016-02-18 13:30:30.000  ...    entre 51 a 60 anos     53090220.0\n",
              "4           2016  2016-11-09 14:20:36.000  ...    entre 21 a 30 anos     53437100.0\n",
              "\n",
              "[5 rows x 23 columns]"
            ]
          },
          "metadata": {
            "tags": []
          },
          "execution_count": 3
        }
      ]
    },
    {
      "cell_type": "markdown",
      "metadata": {
        "id": "fhQjjHwSbQwX"
      },
      "source": [
        "###Dicionário de variáveis\r\n",
        "\r\n",
        "* `AnoCalendario` - Ano calendário de publicação do cadastro de reclamações fundamentadas\r\n",
        "\r\n",
        "* `DataArquivamento` - Data de arquivamento das reclamações\r\n",
        "\r\n",
        "* `DataAbertura` - Data de abertura das reclamações\r\n",
        "\r\n",
        "* `CodigoRegiao` - Código identificador da região do Procon: 01 - Norte, 02 - Nordeste, 03 - Sudeste, 04 - Sul, 05 - Centro-Oeste\r\n",
        "\r\n",
        "* `Regiao` - Região do Procon\r\n",
        "\r\n",
        "* `UF` - Unidade da Federeção do Procon\r\n",
        "\r\n",
        "* `strRazaoSocial` - Razão social do fornecedor (empresa) na base de dados do Sindec\r\n",
        "\r\n",
        "* `strNomeFantasia` - Nome fantasia do fornecedor na base de dados do Sindec (nome comercial / popular / fachada)\r\n",
        "\r\n",
        "* `Tipo` - Cpodigo identificador do tipo da pessoa: 1 - Pessoa Jurídica (CNPJ), 0 - Pessoa Física (CPF)\r\n",
        "\r\n",
        "* `NumeroCNPJ` - Número do CNPJ - Cadastro Nacional de\r\n",
        "Pessoa Jurídica ou CPF - Cadastro de\r\n",
        "Pessoa Física\r\n",
        "\r\n",
        "* `RadicalCNPJ` - Aplica-se para pessoa jurídica e serve\r\n",
        "para agrupar as informações de um\r\n",
        "mesmo fornecedor (matriz e filiais), sendo\r\n",
        "os oitos primeiros dígitos do número do\r\n",
        "CNPJ - Exemplo: a matriz (central) do\r\n",
        "banco e suas filiais (agências)\r\n",
        "\r\n",
        "* `RazaoSocialRFB` - Razão social do fornecedor na base de\r\n",
        "dados da RFB – Receita Federal do Brasil.\r\n",
        "Obs.: somente para os CNPJs\r\n",
        "(NumeroCNPJ) válidos na base da RFB\r\n",
        "\r\n",
        "* `NomeFantasiaRFB` - Nome fantasia do fornecedor na base de\r\n",
        "dados da RFB – Receita Federal do Brasil\r\n",
        "Obs.: somente para os CNPJs\r\n",
        "(NumeroCNPJ) válidos na base da RFB\r\n",
        "\r\n",
        "* `CNAEPrincipal` - Código identificador da Classificação\r\n",
        "Nacional de Atividades Econômicas\r\n",
        "principal do fornecedor.\r\n",
        "Obs.: somente para os CNPJs\r\n",
        "(NumeroCNPJ) válidos na base da RFB\r\n",
        "\r\n",
        "* `DescCNAEPrincipal`  - Descrição da Classificação Nacional de\r\n",
        "Atividades Econômicas principal do\r\n",
        "fornecedor. Obs.: somente para os CNPJs\r\n",
        "(NumeroCNPJ) válidos na base da RFB\r\n",
        "\r\n",
        "* `Atendida` - Código identificador da reclamação\r\n",
        "fundamentada atendida ou não pela\r\n",
        "empresa/fornecedor:\r\n",
        "S – Atendida\r\n",
        "N – NÃO Atendida\r\n",
        "\r\n",
        "* `CodigoAssunto` - Código identificador do assunto\r\n",
        "\r\n",
        "* `DescricaoAssunto` - Descrição dos assuntos do Sindec\r\n",
        "(produto ou serviço objeto da reclamação)\r\n",
        "\r\n",
        "* `CodigoProblema` - Código identificador do problema\r\n",
        "\r\n",
        "* `DescricaoProblema` - Descrição dos problemas do Sindec\r\n",
        "(especificação da lesão sofrida pelo\r\n",
        "consumidor)\r\n",
        "\r\n",
        "* `SexoConsumidor` - Código identificador do sexo do\r\n",
        "consumidor:\r\n",
        "M – Masculino\r\n",
        "F – Feminino\r\n",
        "\r\n",
        "* `FaixaEtariaConsumidor` - Faixa etária do consumidor distribuída da\r\n",
        "seguinte forma:\r\n",
        "\r\n",
        "      até 20 anos\r\n",
        "\r\n",
        "      entre 21 e 30 anos\r\n",
        "\r\n",
        "      entre 31 e 40 anos\r\n",
        "\r\n",
        "      entre 41 e 50 anos\r\n",
        "\r\n",
        "      entre 51 e 60 anos\r\n",
        "\r\n",
        "      entre 61 e 70 anos\r\n",
        "\r\n",
        "      mais de 70 anos\r\n",
        "\r\n",
        "      Nao Informada (data de nascimento não\r\n",
        "      informada no cadastro do consumidor)\r\n",
        "      Nao Informada (data de nascimento não\r\n",
        "      informada no cadastro do consumidor)\r\n",
        "\r\n",
        "      Não se aplica (são as reclamações (de\r\n",
        "      ofício) em que o Procon é o reclamante)\r\n",
        "\r\n",
        "* `CEPConsumidor` - Código identificador do CEP do\r\n",
        "consumidor (Código de Endereçamento\r\n",
        "Postal). Obs.: Não se aplica (são as\r\n",
        "reclamações (de ofício) em que o Procon é\r\n",
        "o reclamante)\r\n",
        "ofício) em que o Procon é o reclamante)"
      ]
    },
    {
      "cell_type": "markdown",
      "metadata": {
        "id": "UnF3ht6jjZOh"
      },
      "source": [
        "A função `info()`permite verificar as informações do dataframe e os tipos de variáveis.\r\n",
        "\r\n",
        "Neste caso, possui **71415 entradas e 23 colunas.**"
      ]
    },
    {
      "cell_type": "code",
      "metadata": {
        "colab": {
          "base_uri": "https://localhost:8080/"
        },
        "id": "514ROkhF6yH8",
        "outputId": "6c3eafa6-261f-4d96-ee2d-972cf76a4eb9"
      },
      "source": [
        "# verificando as informações sobre o dataset\r\n",
        "df.info()"
      ],
      "execution_count": 5,
      "outputs": [
        {
          "output_type": "stream",
          "text": [
            "<class 'pandas.core.frame.DataFrame'>\n",
            "RangeIndex: 203486 entries, 0 to 203485\n",
            "Data columns (total 23 columns):\n",
            " #   Column                 Non-Null Count   Dtype  \n",
            "---  ------                 --------------   -----  \n",
            " 0   AnoCalendario          203486 non-null  int64  \n",
            " 1   DataArquivamento       203486 non-null  object \n",
            " 2   DataAbertura           203486 non-null  object \n",
            " 3   CodigoRegiao           203486 non-null  int64  \n",
            " 4   Regiao                 203486 non-null  object \n",
            " 5   UF                     203486 non-null  object \n",
            " 6   strRazaoSocial         203483 non-null  object \n",
            " 7   strNomeFantasia        173722 non-null  object \n",
            " 8   Tipo                   203486 non-null  int64  \n",
            " 9   NumeroCNPJ             195292 non-null  float64\n",
            " 10  RadicalCNPJ            195292 non-null  float64\n",
            " 11  RazaoSocialRFB         187287 non-null  object \n",
            " 12  NomeFantasiaRFB        92561 non-null   object \n",
            " 13  CNAEPrincipal          187287 non-null  float64\n",
            " 14  DescCNAEPrincipal      185784 non-null  object \n",
            " 15  Atendida               203486 non-null  object \n",
            " 16  CodigoAssunto          203486 non-null  int64  \n",
            " 17  DescricaoAssunto       203486 non-null  object \n",
            " 18  CodigoProblema         203476 non-null  float64\n",
            " 19  DescricaoProblema      203476 non-null  object \n",
            " 20  SexoConsumidor         203484 non-null  object \n",
            " 21  FaixaEtariaConsumidor  203486 non-null  object \n",
            " 22  CEPConsumidor          189400 non-null  float64\n",
            "dtypes: float64(5), int64(4), object(14)\n",
            "memory usage: 35.7+ MB\n"
          ],
          "name": "stdout"
        }
      ]
    },
    {
      "cell_type": "markdown",
      "metadata": {
        "id": "QCHFXAB6j5D8"
      },
      "source": [
        "Como lidamos majoritariamente com variáveis categóricas, a partir da função `describe(include = 'O')`é possível retirar alguns insights através da análise estatísticas dos dados, como:\n",
        " \n",
        "* `count` - Contagem de entradas válidas para a variável\n",
        "* `unique` - Quantidade de entradas únicas\n",
        "* `top` - Entrada mais comum\n",
        "* `freq` - Frequência em que a entrada mais comum ocorre\n",
        " \n",
        "Neste conjunto de dados já é possível tirar algumas conclusões:\n",
        " \n",
        "* A região que registrou mais reclamações fundamentadas é o **Nordeste**.\n",
        " \n",
        "* O UF que mais registrou reclamações fundamentadas foi o estado de **São Paulo**.\n",
        " \n",
        "* A empresa, razão social, que mais recebeu reclamações fundamentadas foi a **TELEMAR NORTE LESTE S/A**.\n",
        " \n",
        "* A  empresa, de nome fantasia, que recebeu mais reclamações fundamentadas foi a **OI**.\n",
        " \n",
        "* A descrição do problema mais relatado é **Cobrança indevida/abusiva**.\n",
        " \n",
        "* Ainda é possível correlacionar através dos dados acima que a reclamação mais relatada é **a cobrança abusiva em serviços de telefonia**.\n",
        " \n",
        "* As mulheres registram mais reclamações que os homens.\n",
        " \n",
        "* A faixa etária que mais registrou reclamações foi **entre 31 a 40 anos**.\n",
        " \n",
        "* A maioria das reclamações **foram atendidas**."
      ]
    },
    {
      "cell_type": "code",
      "metadata": {
        "colab": {
          "base_uri": "https://localhost:8080/",
          "height": 244
        },
        "id": "Fy20JGy38iep",
        "outputId": "a75a4fa6-d6d8-46eb-f0d2-b47e21fbbb80"
      },
      "source": [
        "df.describe(include='O')"
      ],
      "execution_count": 6,
      "outputs": [
        {
          "output_type": "execute_result",
          "data": {
            "text/html": [
              "<div>\n",
              "<style scoped>\n",
              "    .dataframe tbody tr th:only-of-type {\n",
              "        vertical-align: middle;\n",
              "    }\n",
              "\n",
              "    .dataframe tbody tr th {\n",
              "        vertical-align: top;\n",
              "    }\n",
              "\n",
              "    .dataframe thead th {\n",
              "        text-align: right;\n",
              "    }\n",
              "</style>\n",
              "<table border=\"1\" class=\"dataframe\">\n",
              "  <thead>\n",
              "    <tr style=\"text-align: right;\">\n",
              "      <th></th>\n",
              "      <th>DataArquivamento</th>\n",
              "      <th>DataAbertura</th>\n",
              "      <th>Regiao</th>\n",
              "      <th>UF</th>\n",
              "      <th>strRazaoSocial</th>\n",
              "      <th>strNomeFantasia</th>\n",
              "      <th>RazaoSocialRFB</th>\n",
              "      <th>NomeFantasiaRFB</th>\n",
              "      <th>DescCNAEPrincipal</th>\n",
              "      <th>Atendida</th>\n",
              "      <th>DescricaoAssunto</th>\n",
              "      <th>DescricaoProblema</th>\n",
              "      <th>SexoConsumidor</th>\n",
              "      <th>FaixaEtariaConsumidor</th>\n",
              "    </tr>\n",
              "  </thead>\n",
              "  <tbody>\n",
              "    <tr>\n",
              "      <th>count</th>\n",
              "      <td>203486</td>\n",
              "      <td>203486</td>\n",
              "      <td>203486</td>\n",
              "      <td>203486</td>\n",
              "      <td>203483</td>\n",
              "      <td>173722</td>\n",
              "      <td>187287</td>\n",
              "      <td>92561</td>\n",
              "      <td>185784</td>\n",
              "      <td>203486</td>\n",
              "      <td>203486</td>\n",
              "      <td>203476</td>\n",
              "      <td>203484</td>\n",
              "      <td>203486</td>\n",
              "    </tr>\n",
              "    <tr>\n",
              "      <th>unique</th>\n",
              "      <td>139419</td>\n",
              "      <td>168275</td>\n",
              "      <td>5</td>\n",
              "      <td>23</td>\n",
              "      <td>34719</td>\n",
              "      <td>26719</td>\n",
              "      <td>19339</td>\n",
              "      <td>12865</td>\n",
              "      <td>748</td>\n",
              "      <td>2</td>\n",
              "      <td>212</td>\n",
              "      <td>187</td>\n",
              "      <td>3</td>\n",
              "      <td>8</td>\n",
              "    </tr>\n",
              "    <tr>\n",
              "      <th>top</th>\n",
              "      <td>2016-01-01 00:00:00.000</td>\n",
              "      <td>2012-02-13 11:45:30.000</td>\n",
              "      <td>Nordeste</td>\n",
              "      <td>SP</td>\n",
              "      <td>TELEMAR NORTE LESTE S/A</td>\n",
              "      <td>OI</td>\n",
              "      <td>CLARO S.A.</td>\n",
              "      <td>OI</td>\n",
              "      <td>BANCOS MÚLTIPLOS, COM CARTEIRA COMERCIAL</td>\n",
              "      <td>S</td>\n",
              "      <td>Telefone ( Convencional, Celular, Interfone, E...</td>\n",
              "      <td>Cobrança indevida/abusiva</td>\n",
              "      <td>F</td>\n",
              "      <td>entre 31 a 40 anos</td>\n",
              "    </tr>\n",
              "    <tr>\n",
              "      <th>freq</th>\n",
              "      <td>237</td>\n",
              "      <td>18</td>\n",
              "      <td>66411</td>\n",
              "      <td>31548</td>\n",
              "      <td>2979</td>\n",
              "      <td>2732</td>\n",
              "      <td>4829</td>\n",
              "      <td>11216</td>\n",
              "      <td>16162</td>\n",
              "      <td>120575</td>\n",
              "      <td>21272</td>\n",
              "      <td>52746</td>\n",
              "      <td>107229</td>\n",
              "      <td>45422</td>\n",
              "    </tr>\n",
              "  </tbody>\n",
              "</table>\n",
              "</div>"
            ],
            "text/plain": [
              "               DataArquivamento  ... FaixaEtariaConsumidor\n",
              "count                    203486  ...                203486\n",
              "unique                   139419  ...                     8\n",
              "top     2016-01-01 00:00:00.000  ...    entre 31 a 40 anos\n",
              "freq                        237  ...                 45422\n",
              "\n",
              "[4 rows x 14 columns]"
            ]
          },
          "metadata": {
            "tags": []
          },
          "execution_count": 6
        }
      ]
    },
    {
      "cell_type": "markdown",
      "metadata": {
        "id": "srRAiQZ1nJRj"
      },
      "source": [
        "Entretanto, as variáveis númericas podem ser analisadas através da função `describe()`, que retorna alguns itens:\n",
        "* `count` - Contagem de entradas válidas para cada variável\n",
        "* `mean` - Média aritmética dos valores da variável\n",
        "* `std` - Desvio padrão\n",
        "* `min` - Menor valor existente para a variável\n",
        "* `25%` - Primeiro quartil\n",
        "* `50%` - Mediana\n",
        "* `75%` - Terceiro quartil\n",
        "* `max` - MAior valor existente para a variável\n",
        "\n",
        "Logo, pode-se afirmar que:\n",
        " \n",
        "* A validade dos dados ocorreram de fato em 2016.\n",
        " \n",
        "* A mediana do `Tipo` próxima a 1 indica que o tipo de pessoa que mais recebeu reclamações é **pessoa jurídica**."
      ]
    },
    {
      "cell_type": "code",
      "metadata": {
        "colab": {
          "base_uri": "https://localhost:8080/",
          "height": 317
        },
        "id": "FtGPqjwDnz9H",
        "outputId": "62cb4632-e24b-45fe-89f6-14d9ce889b9c"
      },
      "source": [
        "# distribuição estatística das variáveis numéricas\r\n",
        "df.describe()"
      ],
      "execution_count": 7,
      "outputs": [
        {
          "output_type": "execute_result",
          "data": {
            "text/html": [
              "<div>\n",
              "<style scoped>\n",
              "    .dataframe tbody tr th:only-of-type {\n",
              "        vertical-align: middle;\n",
              "    }\n",
              "\n",
              "    .dataframe tbody tr th {\n",
              "        vertical-align: top;\n",
              "    }\n",
              "\n",
              "    .dataframe thead th {\n",
              "        text-align: right;\n",
              "    }\n",
              "</style>\n",
              "<table border=\"1\" class=\"dataframe\">\n",
              "  <thead>\n",
              "    <tr style=\"text-align: right;\">\n",
              "      <th></th>\n",
              "      <th>AnoCalendario</th>\n",
              "      <th>CodigoRegiao</th>\n",
              "      <th>Tipo</th>\n",
              "      <th>NumeroCNPJ</th>\n",
              "      <th>RadicalCNPJ</th>\n",
              "      <th>CNAEPrincipal</th>\n",
              "      <th>CodigoAssunto</th>\n",
              "      <th>CodigoProblema</th>\n",
              "      <th>CEPConsumidor</th>\n",
              "    </tr>\n",
              "  </thead>\n",
              "  <tbody>\n",
              "    <tr>\n",
              "      <th>count</th>\n",
              "      <td>203486.0</td>\n",
              "      <td>203486.00000</td>\n",
              "      <td>203486.000000</td>\n",
              "      <td>1.952920e+05</td>\n",
              "      <td>1.952920e+05</td>\n",
              "      <td>1.872870e+05</td>\n",
              "      <td>203486.000000</td>\n",
              "      <td>203476.000000</td>\n",
              "      <td>1.894000e+05</td>\n",
              "    </tr>\n",
              "    <tr>\n",
              "      <th>mean</th>\n",
              "      <td>2016.0</td>\n",
              "      <td>2.89616</td>\n",
              "      <td>0.996614</td>\n",
              "      <td>2.370356e+13</td>\n",
              "      <td>1.169177e+08</td>\n",
              "      <td>5.520086e+06</td>\n",
              "      <td>138.631277</td>\n",
              "      <td>120.828766</td>\n",
              "      <td>5.160439e+07</td>\n",
              "    </tr>\n",
              "    <tr>\n",
              "      <th>std</th>\n",
              "      <td>0.0</td>\n",
              "      <td>1.17781</td>\n",
              "      <td>0.058091</td>\n",
              "      <td>2.564529e+13</td>\n",
              "      <td>2.423599e+09</td>\n",
              "      <td>1.608752e+06</td>\n",
              "      <td>69.979777</td>\n",
              "      <td>58.999782</td>\n",
              "      <td>2.684505e+07</td>\n",
              "    </tr>\n",
              "    <tr>\n",
              "      <th>min</th>\n",
              "      <td>2016.0</td>\n",
              "      <td>1.00000</td>\n",
              "      <td>0.000000</td>\n",
              "      <td>1.910000e+02</td>\n",
              "      <td>0.000000e+00</td>\n",
              "      <td>1.156000e+05</td>\n",
              "      <td>1.000000</td>\n",
              "      <td>1.000000</td>\n",
              "      <td>0.000000e+00</td>\n",
              "    </tr>\n",
              "    <tr>\n",
              "      <th>25%</th>\n",
              "      <td>2016.0</td>\n",
              "      <td>2.00000</td>\n",
              "      <td>1.000000</td>\n",
              "      <td>4.206050e+12</td>\n",
              "      <td>4.206050e+06</td>\n",
              "      <td>4.711301e+06</td>\n",
              "      <td>92.000000</td>\n",
              "      <td>105.000000</td>\n",
              "      <td>3.101010e+07</td>\n",
              "    </tr>\n",
              "    <tr>\n",
              "      <th>50%</th>\n",
              "      <td>2016.0</td>\n",
              "      <td>3.00000</td>\n",
              "      <td>1.000000</td>\n",
              "      <td>1.082318e+13</td>\n",
              "      <td>1.083593e+07</td>\n",
              "      <td>6.110801e+06</td>\n",
              "      <td>105.000000</td>\n",
              "      <td>107.000000</td>\n",
              "      <td>5.600000e+07</td>\n",
              "    </tr>\n",
              "    <tr>\n",
              "      <th>75%</th>\n",
              "      <td>2016.0</td>\n",
              "      <td>4.00000</td>\n",
              "      <td>1.000000</td>\n",
              "      <td>4.043254e+13</td>\n",
              "      <td>4.043254e+07</td>\n",
              "      <td>6.423900e+06</td>\n",
              "      <td>187.000000</td>\n",
              "      <td>136.000000</td>\n",
              "      <td>7.727000e+07</td>\n",
              "    </tr>\n",
              "    <tr>\n",
              "      <th>max</th>\n",
              "      <td>2016.0</td>\n",
              "      <td>5.00000</td>\n",
              "      <td>1.000000</td>\n",
              "      <td>9.840807e+13</td>\n",
              "      <td>9.996934e+10</td>\n",
              "      <td>9.700500e+06</td>\n",
              "      <td>288.000000</td>\n",
              "      <td>262.000000</td>\n",
              "      <td>9.969800e+07</td>\n",
              "    </tr>\n",
              "  </tbody>\n",
              "</table>\n",
              "</div>"
            ],
            "text/plain": [
              "       AnoCalendario  CodigoRegiao  ...  CodigoProblema  CEPConsumidor\n",
              "count       203486.0  203486.00000  ...   203476.000000   1.894000e+05\n",
              "mean          2016.0       2.89616  ...      120.828766   5.160439e+07\n",
              "std              0.0       1.17781  ...       58.999782   2.684505e+07\n",
              "min           2016.0       1.00000  ...        1.000000   0.000000e+00\n",
              "25%           2016.0       2.00000  ...      105.000000   3.101010e+07\n",
              "50%           2016.0       3.00000  ...      107.000000   5.600000e+07\n",
              "75%           2016.0       4.00000  ...      136.000000   7.727000e+07\n",
              "max           2016.0       5.00000  ...      262.000000   9.969800e+07\n",
              "\n",
              "[8 rows x 9 columns]"
            ]
          },
          "metadata": {
            "tags": []
          },
          "execution_count": 7
        }
      ]
    },
    {
      "cell_type": "markdown",
      "metadata": {
        "id": "1WYGGgt1_S_B"
      },
      "source": [
        "## Análise Exploratória"
      ]
    },
    {
      "cell_type": "markdown",
      "metadata": {
        "id": "dCCu3VL5_ezX"
      },
      "source": [
        "### Região"
      ]
    },
    {
      "cell_type": "markdown",
      "metadata": {
        "id": "DkIiyvuuEbYm"
      },
      "source": [
        "Realizando uma análise mais quantitativa na variável de Região através da função `coluna_região.value_counts()`.\r\n",
        "\r\n",
        "A partir do que foi constadado na análise categórica dos dados, a região com mais reclamações registradas é a do **Nordeste** com 66411 reclamações, seguida do **Sudeste** com 62974, **Centro-oeste** com 28786, **Sul** com 26113, e a região com menos reclamações é o **Norte** com 19202 ."
      ]
    },
    {
      "cell_type": "code",
      "metadata": {
        "id": "2hqfDsTlGFdQ"
      },
      "source": [
        "coluna_regiao = df['Regiao']"
      ],
      "execution_count": 8,
      "outputs": []
    },
    {
      "cell_type": "code",
      "metadata": {
        "colab": {
          "base_uri": "https://localhost:8080/"
        },
        "id": "eYKqjJZ2GaMy",
        "outputId": "24c0d567-587b-4e94-bd26-eb224b5d40e6"
      },
      "source": [
        "coluna_regiao.value_counts()"
      ],
      "execution_count": 9,
      "outputs": [
        {
          "output_type": "execute_result",
          "data": {
            "text/plain": [
              "Nordeste        66411\n",
              "Sudeste         62974\n",
              "Centro-oeste    28786\n",
              "Sul             26113\n",
              "Norte           19202\n",
              "Name: Regiao, dtype: int64"
            ]
          },
          "metadata": {
            "tags": []
          },
          "execution_count": 9
        }
      ]
    },
    {
      "cell_type": "code",
      "metadata": {
        "colab": {
          "base_uri": "https://localhost:8080/",
          "height": 282
        },
        "id": "gVoxd-D3rmUP",
        "outputId": "6810d2d4-8c60-445a-d5ed-3088599cdb13"
      },
      "source": [
        "# histograma reclamações por região\r\n",
        "coluna_regiao.hist()"
      ],
      "execution_count": 10,
      "outputs": [
        {
          "output_type": "execute_result",
          "data": {
            "text/plain": [
              "<matplotlib.axes._subplots.AxesSubplot at 0x7fe65bbc22b0>"
            ]
          },
          "metadata": {
            "tags": []
          },
          "execution_count": 10
        },
        {
          "output_type": "display_data",
          "data": {
            "image/png": "[encoded data removed]",
            "text/plain": [
              "<Figure size 432x288 with 1 Axes>"
            ]
          },
          "metadata": {
            "tags": [],
            "needs_background": "light"
          }
        }
      ]
    },
    {
      "cell_type": "markdown",
      "metadata": {
        "id": "xV2Ufzbt_row"
      },
      "source": [
        "### Proporção entre o sexo feminino e masculino\r\n",
        "\r\n",
        "O maior índice de reclamações é do sexo **feminino**, com **12783 reclamações** a mais que o sexo masculino.\r\n",
        "\r\n",
        "O código N com 1809 reclamções indica que o PROCON é o reclamante. \r\n",
        "\r\n"
      ]
    },
    {
      "cell_type": "code",
      "metadata": {
        "id": "lFZN6UKRGpij"
      },
      "source": [
        "coluna_sexo = df['SexoConsumidor']"
      ],
      "execution_count": 12,
      "outputs": []
    },
    {
      "cell_type": "code",
      "metadata": {
        "colab": {
          "base_uri": "https://localhost:8080/"
        },
        "id": "SLrCZqxzHGkr",
        "outputId": "4e536a5d-9267-4aad-f401-b39499ed22eb"
      },
      "source": [
        "coluna_sexo.value_counts()"
      ],
      "execution_count": 13,
      "outputs": [
        {
          "output_type": "execute_result",
          "data": {
            "text/plain": [
              "F    107229\n",
              "M     94446\n",
              "N      1809\n",
              "Name: SexoConsumidor, dtype: int64"
            ]
          },
          "metadata": {
            "tags": []
          },
          "execution_count": 13
        }
      ]
    },
    {
      "cell_type": "code",
      "metadata": {
        "colab": {
          "base_uri": "https://localhost:8080/",
          "height": 282
        },
        "id": "glspKqDk3Kl3",
        "outputId": "97bdd0f6-6987-4d35-a3ea-9810c4ea199d"
      },
      "source": [
        "# histograma reclamações por sexo\r\n",
        "coluna_sexo.hist()"
      ],
      "execution_count": 14,
      "outputs": [
        {
          "output_type": "execute_result",
          "data": {
            "text/plain": [
              "<matplotlib.axes._subplots.AxesSubplot at 0x7fe65b491908>"
            ]
          },
          "metadata": {
            "tags": []
          },
          "execution_count": 14
        },
        {
          "output_type": "display_data",
          "data": {
            "image/png": "[encoded data removed]",
            "text/plain": [
              "<Figure size 432x288 with 1 Axes>"
            ]
          },
          "metadata": {
            "tags": [],
            "needs_background": "light"
          }
        }
      ]
    },
    {
      "cell_type": "markdown",
      "metadata": {
        "id": "vyEPSBcXAvoR"
      },
      "source": [
        "### Proporção Pessoa Física e Pessoa Jurídica\r\n",
        "\r\n",
        "As reclamações fundamentadas são majoritariamente para **Pessoa Jurídica** com `tipo 1`."
      ]
    },
    {
      "cell_type": "code",
      "metadata": {
        "id": "eJCHHhKDCxb1",
        "colab": {
          "base_uri": "https://localhost:8080/",
          "height": 279
        },
        "outputId": "060c7545-0939-47d9-ed56-089c31a78e3f"
      },
      "source": [
        "# tipo pessoa física ou pessoa jurídica\r\n",
        "sns.countplot(x='Tipo', data=df);"
      ],
      "execution_count": 15,
      "outputs": [
        {
          "output_type": "display_data",
          "data": {
            "image/png": "[encoded data removed]",
            "text/plain": [
              "<Figure size 432x288 with 1 Axes>"
            ]
          },
          "metadata": {
            "tags": [],
            "needs_background": "light"
          }
        }
      ]
    },
    {
      "cell_type": "markdown",
      "metadata": {
        "id": "mgxb5KMPB2IQ"
      },
      "source": [
        "### Descrição do Problema\r\n",
        "\r\n",
        "Dos mais variados problemas relatados pelo consumidor, os principais foram:\r\n",
        "\r\n",
        "* cobrança indevida/abusiva\r\n",
        "\r\n",
        "* produto com vício\r\n",
        "\r\n",
        "* garantia (abrangência, cobertura, etc.)\r\n",
        "\r\n",
        "E os problemas com menos registros foram:\r\n",
        "\r\n",
        "* documentos: não fornecimento (escolares, recibo, nota fiscal, voucher, etc.)\r\n",
        "\r\n",
        "* não cumprimento à oferta\r\n",
        "\r\n",
        "* antecipação de financiamento"
      ]
    },
    {
      "cell_type": "code",
      "metadata": {
        "colab": {
          "base_uri": "https://localhost:8080/",
          "height": 1000
        },
        "id": "D4hnEoc371xm",
        "outputId": "2c527756-ac77-4ce6-c6d8-32413e060363"
      },
      "source": [
        "# coletando e ordenando os valores para cada descrição do problema\r\n",
        "DescricaoProblema = df['DescricaoProblema']\r\n",
        "DescricaoProblema = df.DescricaoProblema.value_counts().sort_values(ascending=False).iloc[0:40]\r\n",
        "\r\n",
        "# criando a visualização\r\n",
        "fig,ax = plt.subplots(figsize=(15,10))\r\n",
        "sns.barplot(DescricaoProblema.index, DescricaoProblema.values);\r\n",
        "\r\n",
        "# definindo o título do eixo y\r\n",
        "plt.ylabel('Número de reclamações')\r\n",
        "# definindo o título do eixo x\r\n",
        "plt.xlabel('Descrição do Problema')\r\n",
        "# definindo o título da visualização\r\n",
        "plt.title('Número de Reclamações por Descrição do Problema')\r\n",
        "# rotacionando a legenda do eixo x para melhor visualização\r\n",
        "plt.xticks(rotation=90);\r\n",
        "# plotando a visualização\r\n",
        "plt.show()"
      ],
      "execution_count": 16,
      "outputs": [
        {
          "output_type": "stream",
          "text": [
            "/usr/local/lib/python3.6/dist-packages/seaborn/_decorators.py:43: FutureWarning: Pass the following variables as keyword args: x, y. From version 0.12, the only valid positional argument will be `data`, and passing other arguments without an explicit keyword will result in an error or misinterpretation.\n",
            "  FutureWarning\n"
          ],
          "name": "stderr"
        },
        {
          "output_type": "display_data",
          "data": {
            "image/png": "[encoded data removed]",
            "text/plain": [
              "<Figure size 1080x720 with 1 Axes>"
            ]
          },
          "metadata": {
            "tags": [],
            "needs_background": "light"
          }
        }
      ]
    },
    {
      "cell_type": "markdown",
      "metadata": {
        "id": "0ocR6okuDTG2"
      },
      "source": [
        "### Empresas (Nome Fantasia)\r\n",
        "\r\n",
        "Através da função `coluna_empresa.value_counts()` verifica-se que existem mais de 26719 entradas, ou seja, mais de **26 mil** empresas diferentes foram relatadas ao PROCON em todo o Brasil.\r\n",
        "\r\n",
        "Dentre essas, as que mais receberam reclamações foram:\r\n",
        "\r\n",
        "* OI\r\n",
        "\r\n",
        "* SKY\r\n",
        "\r\n",
        "* SAMSUNG\r\n",
        "\r\n",
        "* PONTOFRIO.COM.BR/ CASASBAHIA.COM.BR/ EXTRA.COM.BR\r\n",
        "\r\n",
        "* OI FIXO"
      ]
    },
    {
      "cell_type": "code",
      "metadata": {
        "id": "Y-HcbuGk6Y5z"
      },
      "source": [
        "coluna_empresa = df['strNomeFantasia']"
      ],
      "execution_count": 17,
      "outputs": []
    },
    {
      "cell_type": "code",
      "metadata": {
        "colab": {
          "base_uri": "https://localhost:8080/"
        },
        "id": "Qnt73nrNDydp",
        "outputId": "3a193c27-b501-48b9-96ea-208530845a69"
      },
      "source": [
        "coluna_empresa.value_counts()"
      ],
      "execution_count": 18,
      "outputs": [
        {
          "output_type": "execute_result",
          "data": {
            "text/plain": [
              "OI                                                 2732\n",
              "SKY                                                2615\n",
              "SAMSUNG                                            2127\n",
              "PONTOFRIO.COM.BR/CASASBAHIA.COM.BR/EXTRA.COM.BR    2106\n",
              "OI FIXO                                            2080\n",
              "                                                   ... \n",
              "TWT PISCINAS E AQUECEDORES                            1\n",
              "SAGE EVENTOS                                          1\n",
              "HOTELBARAOGERALDO.COM.BR                              1\n",
              "WAP LAVADORAS E ASPIRADORES DE AUTOMÓVEIS             1\n",
              "MOTO HONDA DA AMAZÔNIA LTDA                           1\n",
              "Name: strNomeFantasia, Length: 26719, dtype: int64"
            ]
          },
          "metadata": {
            "tags": []
          },
          "execution_count": 18
        }
      ]
    },
    {
      "cell_type": "code",
      "metadata": {
        "colab": {
          "base_uri": "https://localhost:8080/",
          "height": 265
        },
        "id": "Yp4bNWkID05P",
        "outputId": "f593e64f-0db5-4ce8-d9c5-3a9b2bb922a6"
      },
      "source": [
        "# visualização em gráfico de barras\r\n",
        "grupos = ['OI', 'SKY', 'SAMSUNG', 'PONTOFRIO', 'OI FIXO']\r\n",
        "valores = [2732, 2615, 2127, 2106, 2080]\r\n",
        "plt.bar(grupos, valores, color='purple')\r\n",
        "plt.show()"
      ],
      "execution_count": 22,
      "outputs": [
        {
          "output_type": "display_data",
          "data": {
            "image/png": "[encoded data removed]",
            "text/plain": [
              "<Figure size 432x288 with 1 Axes>"
            ]
          },
          "metadata": {
            "tags": [],
            "needs_background": "light"
          }
        }
      ]
    },
    {
      "cell_type": "markdown",
      "metadata": {
        "id": "h834Qh-sJKmA"
      },
      "source": [
        "### Faixa Etária Consumidor\r\n",
        "\r\n",
        "Dentre as idades que mais registraram reclamações, a faixa etária predominante foi de **31 a 40 anos**, e a menos frequente de até **20 anos**."
      ]
    },
    {
      "cell_type": "code",
      "metadata": {
        "id": "PqQ-Bu7ZIjrr"
      },
      "source": [
        "coluna_idade = df['FaixaEtariaConsumidor']"
      ],
      "execution_count": 23,
      "outputs": []
    },
    {
      "cell_type": "code",
      "metadata": {
        "colab": {
          "base_uri": "https://localhost:8080/"
        },
        "id": "1tS8c10KJoeB",
        "outputId": "ff168d59-ffa2-4f32-bee5-5a455f7a8e5f"
      },
      "source": [
        "coluna_idade.value_counts()"
      ],
      "execution_count": 24,
      "outputs": [
        {
          "output_type": "execute_result",
          "data": {
            "text/plain": [
              "entre 31 a 40 anos    45422\n",
              "entre 41 a 50 anos    37963\n",
              "entre 21 a 30 anos    33237\n",
              "entre 51 a 60 anos    31717\n",
              "entre 61 a 70 anos    22660\n",
              "Nao Informada         16790\n",
              "mais de 70 anos       10893\n",
              "até 20 anos            4804\n",
              "Name: FaixaEtariaConsumidor, dtype: int64"
            ]
          },
          "metadata": {
            "tags": []
          },
          "execution_count": 24
        }
      ]
    },
    {
      "cell_type": "code",
      "metadata": {
        "colab": {
          "base_uri": "https://localhost:8080/",
          "height": 295
        },
        "id": "4BUTmvMYKilV",
        "outputId": "52bc1cde-2019-47aa-872c-8e0b593ea1b2"
      },
      "source": [
        "# definindo os valores de x e y manualmente\r\n",
        "idade = ['Entre 31 a 40 anos', 'Entre 41 a 50 anos', 'Entre 21 a 30 anos', 'Entre 51 a 60 anos', 'Entre 61 a 70 anos',\r\n",
        "         'Não Informada', 'Mais de 70 anos', 'Até 20 anos']\r\n",
        "qtd = [45422, 37963, 33237, 31717, 22660, 16790, 10893, 4804]\r\n",
        "\r\n",
        "# gráfico de barras\r\n",
        "plt.barh(idade, qtd, color= 'red')\r\n",
        "\r\n",
        "# labels do gráfico\r\n",
        "plt.ylabel(\"Faixa etária\")\r\n",
        "plt.xlabel(\"quantidade\")\r\n",
        "plt.title(\"Faixa etária reclamações\")\r\n",
        "\r\n",
        "plt.show()"
      ],
      "execution_count": 25,
      "outputs": [
        {
          "output_type": "display_data",
          "data": {
            "image/png": "[encoded data removed]",
            "text/plain": [
              "<Figure size 432x288 with 1 Axes>"
            ]
          },
          "metadata": {
            "tags": [],
            "needs_background": "light"
          }
        }
      ]
    },
    {
      "cell_type": "markdown",
      "metadata": {
        "id": "FeSvGci01qp_"
      },
      "source": [
        "### Reclamações atendidas\r\n",
        "\r\n",
        "As proporção de reclamações atendidas mostra que **120.575** reclamações foram atendidas e logo, **82.911 não** foram atendidas."
      ]
    },
    {
      "cell_type": "code",
      "metadata": {
        "id": "lP4V2SAqQKjz"
      },
      "source": [
        "coluna_atend = df['Atendida']"
      ],
      "execution_count": 26,
      "outputs": []
    },
    {
      "cell_type": "code",
      "metadata": {
        "colab": {
          "base_uri": "https://localhost:8080/"
        },
        "id": "Awxvr0Jg1399",
        "outputId": "41026e2a-85a6-4bb2-eed9-87cc50223815"
      },
      "source": [
        "coluna_atend.value_counts()"
      ],
      "execution_count": 27,
      "outputs": [
        {
          "output_type": "execute_result",
          "data": {
            "text/plain": [
              "S    120575\n",
              "N     82911\n",
              "Name: Atendida, dtype: int64"
            ]
          },
          "metadata": {
            "tags": []
          },
          "execution_count": 27
        }
      ]
    },
    {
      "cell_type": "markdown",
      "metadata": {
        "id": "t42Q-daYMrgU"
      },
      "source": [
        "Através da função `crosstab`é possível verificar quantas reclamções foram atendidas ou não atendidas em cada Região."
      ]
    },
    {
      "cell_type": "code",
      "metadata": {
        "id": "VQtU_eXY16Hp"
      },
      "source": [
        "atend = pd.crosstab(df['Atendida'], df['Regiao'])"
      ],
      "execution_count": 28,
      "outputs": []
    },
    {
      "cell_type": "code",
      "metadata": {
        "colab": {
          "base_uri": "https://localhost:8080/",
          "height": 142
        },
        "id": "1xnEBPw94mPi",
        "outputId": "1038a3cb-ad9e-48f0-efdf-5266e91e07e4"
      },
      "source": [
        "atend"
      ],
      "execution_count": 29,
      "outputs": [
        {
          "output_type": "execute_result",
          "data": {
            "text/html": [
              "<div>\n",
              "<style scoped>\n",
              "    .dataframe tbody tr th:only-of-type {\n",
              "        vertical-align: middle;\n",
              "    }\n",
              "\n",
              "    .dataframe tbody tr th {\n",
              "        vertical-align: top;\n",
              "    }\n",
              "\n",
              "    .dataframe thead th {\n",
              "        text-align: right;\n",
              "    }\n",
              "</style>\n",
              "<table border=\"1\" class=\"dataframe\">\n",
              "  <thead>\n",
              "    <tr style=\"text-align: right;\">\n",
              "      <th>Regiao</th>\n",
              "      <th>Centro-oeste</th>\n",
              "      <th>Nordeste</th>\n",
              "      <th>Norte</th>\n",
              "      <th>Sudeste</th>\n",
              "      <th>Sul</th>\n",
              "    </tr>\n",
              "    <tr>\n",
              "      <th>Atendida</th>\n",
              "      <th></th>\n",
              "      <th></th>\n",
              "      <th></th>\n",
              "      <th></th>\n",
              "      <th></th>\n",
              "    </tr>\n",
              "  </thead>\n",
              "  <tbody>\n",
              "    <tr>\n",
              "      <th>N</th>\n",
              "      <td>9566</td>\n",
              "      <td>25321</td>\n",
              "      <td>8835</td>\n",
              "      <td>29938</td>\n",
              "      <td>9251</td>\n",
              "    </tr>\n",
              "    <tr>\n",
              "      <th>S</th>\n",
              "      <td>19220</td>\n",
              "      <td>41090</td>\n",
              "      <td>10367</td>\n",
              "      <td>33036</td>\n",
              "      <td>16862</td>\n",
              "    </tr>\n",
              "  </tbody>\n",
              "</table>\n",
              "</div>"
            ],
            "text/plain": [
              "Regiao    Centro-oeste  Nordeste  Norte  Sudeste    Sul\n",
              "Atendida                                               \n",
              "N                 9566     25321   8835    29938   9251\n",
              "S                19220     41090  10367    33036  16862"
            ]
          },
          "metadata": {
            "tags": []
          },
          "execution_count": 29
        }
      ]
    },
    {
      "cell_type": "markdown",
      "metadata": {
        "id": "7te3u1bKThXD"
      },
      "source": [
        "As regiões do **Sudeste e Norte** apresentam uma proporção **bem próxima** de reclamações atendidas e não atendidas, indicando uma má eficácia em seu serviço local.\r\n",
        "\r\n",
        "As regiões do **Centro-oeste e Sul** demonstram serem mais eficazes que as demais tendo apenas uma menor fração de reclamações não atendidas.\r\n",
        "\r\n",
        "Embora possa-se atrelar a má eficácia no atendimento a região do **Norte**, locais como **Nordeste e Sudeste** lidam com as maiores demandas do Brasil, portanto, outras variáveis como quantidade de colaboradores insuficiente deve ser obserevada.\r\n"
      ]
    },
    {
      "cell_type": "code",
      "metadata": {
        "id": "Up9sT1IUFpC2",
        "colab": {
          "base_uri": "https://localhost:8080/",
          "height": 350
        },
        "outputId": "3d5aa5dd-019f-462f-dfaa-519d090d1c49"
      },
      "source": [
        " \n",
        " \n",
        "atendidas = np.array((41090, 33036, 19202, 16862, 10367 ))\n",
        "n_atendidas = np.array((25321, 29938, 9566, 9251, 8835  ))\n",
        " \n",
        "situacao = ['Atendidas', 'Não Atendidas']\n",
        "regiao = ['Nordeste', 'Sudeste', 'Centro-oeste', 'Sul', 'Norte']\n",
        " \n",
        "plt.figure(figsize=(10,5))\n",
        " \n",
        "plt.bar(regiao, atendidas, color= 'blue')\n",
        "plt.bar(regiao, n_atendidas, color= 'red', bottom = atendidas)\n",
        " \n",
        "plt.xlabel('Região')\n",
        "plt.ylabel('Situação')\n",
        "plt.title('Proporção de reclamações atendidas e não atendidas')\n",
        "plt.legend(('Atendida', 'Não atendida'))\n",
        " \n",
        "plt.show()"
      ],
      "execution_count": 30,
      "outputs": [
        {
          "output_type": "display_data",
          "data": {
            "image/png": "[encoded data removed]",
            "text/plain": [
              "<Figure size 720x360 with 1 Axes>"
            ]
          },
          "metadata": {
            "tags": [],
            "needs_background": "light"
          }
        }
      ]
    },
    {
      "cell_type": "code",
      "metadata": {
        "id": "SD5e9cmCaTNP"
      },
      "source": [
        ""
      ],
      "execution_count": null,
      "outputs": []
    }
  ]
}